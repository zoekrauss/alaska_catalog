{
 "cells": [
  {
   "cell_type": "code",
   "execution_count": 34,
   "metadata": {},
   "outputs": [],
   "source": [
    "import obspy\n",
    "import matplotlib.pyplot as plt\n",
    "import numpy as np\n",
    "import glob\n",
    "import pandas as pd\n",
    "import time; import datetime\n",
    "from obspy.core.utcdatetime import UTCDateTime\n",
    "from obspy.clients.fdsn.client import Client\n",
    "from collections import defaultdict\n",
    "from obspy import read_inventory\n",
    "import pyarrow"
   ]
  },
  {
   "cell_type": "code",
   "execution_count": 35,
   "metadata": {},
   "outputs": [
    {
     "name": "stdout",
     "output_type": "stream",
     "text": [
      "['catalog_css/2018_12/XO_2018_12.quakeml', 'catalog_css/2019_06/XO_2019_06.quakeml', 'catalog_css/2019_01/XO_2019_01.quakeml', 'catalog_css/2019_07/XO_2019_07.quakeml', 'catalog_css/2018_07/XO_2018_07.quakeml', 'catalog_css/2018_09/XO_2018_09.quakeml', 'catalog_css/2018_08/XO_2018_08.quakeml', 'catalog_css/2018_06/XO_2018_06.quakeml', 'catalog_css/2018_11/XO_2018_11.quakeml', 'catalog_css/2018_10/XO_2018_10.quakeml', 'catalog_css/2019_02/XO_2019_02.quakeml', 'catalog_css/2019_05/XO_2019_05.quakeml', 'catalog_css/2019_04/XO_2019_04.quakeml', 'catalog_css/2019_03/XO_2019_03.quakeml', 'catalog_css/2018_05/XO_2018_05.quakeml']\n"
     ]
    }
   ],
   "source": [
    "ml_files = glob.glob('catalog_css/**/XO_*.quakeml')\n",
    "print(ml_files)"
   ]
  },
  {
   "cell_type": "code",
   "execution_count": 36,
   "metadata": {},
   "outputs": [
    {
     "name": "stdout",
     "output_type": "stream",
     "text": [
      "1\n",
      "2\n",
      "3\n",
      "4\n",
      "5\n",
      "6\n",
      "7\n",
      "8\n"
     ]
    },
    {
     "name": "stderr",
     "output_type": "stream",
     "text": [
      "/opt/anaconda3/envs/alaska-ml/lib/python3.9/site-packages/obspy/io/quakeml/core.py:184: UserWarning: Could not convert 2018-06-18T21:56:60.000Z to type <class 'obspy.core.utcdatetime.UTCDateTime'>. Returning None.\n",
      "  warnings.warn(msg % (text, convert_to))\n"
     ]
    },
    {
     "name": "stdout",
     "output_type": "stream",
     "text": [
      "9\n"
     ]
    },
    {
     "name": "stderr",
     "output_type": "stream",
     "text": [
      "/opt/anaconda3/envs/alaska-ml/lib/python3.9/site-packages/obspy/io/quakeml/core.py:184: UserWarning: Could not convert 2018-11-14T00:42:60.000Z to type <class 'obspy.core.utcdatetime.UTCDateTime'>. Returning None.\n",
      "  warnings.warn(msg % (text, convert_to))\n"
     ]
    },
    {
     "name": "stdout",
     "output_type": "stream",
     "text": [
      "10\n"
     ]
    },
    {
     "name": "stderr",
     "output_type": "stream",
     "text": [
      "/opt/anaconda3/envs/alaska-ml/lib/python3.9/site-packages/obspy/io/quakeml/core.py:184: UserWarning: Could not convert 2020-11-19T01:12:60.000Z to type <class 'obspy.core.utcdatetime.UTCDateTime'>. Returning None.\n",
      "  warnings.warn(msg % (text, convert_to))\n"
     ]
    },
    {
     "name": "stdout",
     "output_type": "stream",
     "text": [
      "11\n"
     ]
    },
    {
     "name": "stderr",
     "output_type": "stream",
     "text": [
      "/opt/anaconda3/envs/alaska-ml/lib/python3.9/site-packages/obspy/io/quakeml/core.py:184: UserWarning: Could not convert 2021-02-09T02:50:60.000Z to type <class 'obspy.core.utcdatetime.UTCDateTime'>. Returning None.\n",
      "  warnings.warn(msg % (text, convert_to))\n"
     ]
    },
    {
     "name": "stdout",
     "output_type": "stream",
     "text": [
      "12\n",
      "13\n"
     ]
    },
    {
     "name": "stderr",
     "output_type": "stream",
     "text": [
      "/opt/anaconda3/envs/alaska-ml/lib/python3.9/site-packages/obspy/io/quakeml/core.py:184: UserWarning: Could not convert 2021-05-11T20:56:60.000Z to type <class 'obspy.core.utcdatetime.UTCDateTime'>. Returning None.\n",
      "  warnings.warn(msg % (text, convert_to))\n"
     ]
    },
    {
     "name": "stdout",
     "output_type": "stream",
     "text": [
      "14\n",
      "15\n"
     ]
    }
   ],
   "source": [
    "count = 0\n",
    "cat = obspy.core.event.Catalog()\n",
    "for file in ml_files:\n",
    "    count += 1\n",
    "    print(count)\n",
    "    cat.extend(obspy.core.event.read_events(file))"
   ]
  },
  {
   "cell_type": "code",
   "execution_count": 40,
   "metadata": {},
   "outputs": [
    {
     "data": {
      "text/html": [
       "<div>\n",
       "<style scoped>\n",
       "    .dataframe tbody tr th:only-of-type {\n",
       "        vertical-align: middle;\n",
       "    }\n",
       "\n",
       "    .dataframe tbody tr th {\n",
       "        vertical-align: top;\n",
       "    }\n",
       "\n",
       "    .dataframe thead th {\n",
       "        text-align: right;\n",
       "    }\n",
       "</style>\n",
       "<table border=\"1\" class=\"dataframe\">\n",
       "  <thead>\n",
       "    <tr style=\"text-align: right;\">\n",
       "      <th></th>\n",
       "      <th>time</th>\n",
       "      <th>latitude</th>\n",
       "      <th>longitude</th>\n",
       "      <th>depth</th>\n",
       "      <th>num_arrivals</th>\n",
       "      <th>origin_id</th>\n",
       "    </tr>\n",
       "  </thead>\n",
       "  <tbody>\n",
       "    <tr>\n",
       "      <th>0</th>\n",
       "      <td>2018-12-01T13:45:05.035000Z</td>\n",
       "      <td>57.5320</td>\n",
       "      <td>-155.3753</td>\n",
       "      <td>63400.0</td>\n",
       "      <td>52</td>\n",
       "      <td>quakeml:earthquake.alaska.edu/origin/018fe91jwu</td>\n",
       "    </tr>\n",
       "    <tr>\n",
       "      <th>1</th>\n",
       "      <td>2018-12-02T12:45:55.588000Z</td>\n",
       "      <td>57.0288</td>\n",
       "      <td>-157.9051</td>\n",
       "      <td>400.0</td>\n",
       "      <td>49</td>\n",
       "      <td>quakeml:earthquake.alaska.edu/origin/018ffvzkpa</td>\n",
       "    </tr>\n",
       "    <tr>\n",
       "      <th>2</th>\n",
       "      <td>2018-12-02T14:01:26.889000Z</td>\n",
       "      <td>56.2065</td>\n",
       "      <td>-149.0909</td>\n",
       "      <td>8500.0</td>\n",
       "      <td>196</td>\n",
       "      <td>quakeml:earthquake.alaska.edu/origin/018ffwwy9e</td>\n",
       "    </tr>\n",
       "    <tr>\n",
       "      <th>3</th>\n",
       "      <td>2018-12-02T21:36:00.215000Z</td>\n",
       "      <td>54.9143</td>\n",
       "      <td>-161.0360</td>\n",
       "      <td>58800.0</td>\n",
       "      <td>39</td>\n",
       "      <td>quakeml:earthquake.alaska.edu/origin/018fg1afgt</td>\n",
       "    </tr>\n",
       "    <tr>\n",
       "      <th>4</th>\n",
       "      <td>2018-12-02T19:18:54.664000Z</td>\n",
       "      <td>56.5801</td>\n",
       "      <td>-154.9977</td>\n",
       "      <td>16800.0</td>\n",
       "      <td>39</td>\n",
       "      <td>quakeml:earthquake.alaska.edu/origin/018ffzztgm</td>\n",
       "    </tr>\n",
       "  </tbody>\n",
       "</table>\n",
       "</div>"
      ],
      "text/plain": [
       "                          time  latitude  longitude    depth  num_arrivals  \\\n",
       "0  2018-12-01T13:45:05.035000Z   57.5320  -155.3753  63400.0            52   \n",
       "1  2018-12-02T12:45:55.588000Z   57.0288  -157.9051    400.0            49   \n",
       "2  2018-12-02T14:01:26.889000Z   56.2065  -149.0909   8500.0           196   \n",
       "3  2018-12-02T21:36:00.215000Z   54.9143  -161.0360  58800.0            39   \n",
       "4  2018-12-02T19:18:54.664000Z   56.5801  -154.9977  16800.0            39   \n",
       "\n",
       "                                         origin_id  \n",
       "0  quakeml:earthquake.alaska.edu/origin/018fe91jwu  \n",
       "1  quakeml:earthquake.alaska.edu/origin/018ffvzkpa  \n",
       "2  quakeml:earthquake.alaska.edu/origin/018ffwwy9e  \n",
       "3  quakeml:earthquake.alaska.edu/origin/018fg1afgt  \n",
       "4  quakeml:earthquake.alaska.edu/origin/018ffzztgm  "
      ]
     },
     "execution_count": 40,
     "metadata": {},
     "output_type": "execute_result"
    }
   ],
   "source": [
    "origins = [p.origins[0] for p in cat.events]\n",
    "magnitudes = [p.magnitudes[0] for p in cat.events]\n",
    "\n",
    "\n",
    "times = [p.time for p in origins]\n",
    "lats = [p.latitude for p in origins]\n",
    "lons = [p.longitude for p in origins]\n",
    "depths = [p.depth for p in origins]\n",
    "arrivals = [len(p.arrivals) for p in origins]\n",
    "origin_ids = [str(p.resource_id) for p in origins]\n",
    "mags = [p.mag for p in magnitudes]\n",
    "mag_type = [p.magnitude_type for p in magnitudes]\n",
    "origin_dict = {'time':times,'latitude':lats,'longitude':lons,'depth':depths,'num_arrivals':arrivals,'origin_id':origin_ids,'magnitude':mags,'mag_type':mag_type}\n",
    "\n",
    "events = pd.DataFrame.from_dict(origin_dict)\n",
    "events['time'] = [str(t) for t in events['time']]\n",
    "events.head()"
   ]
  },
  {
   "cell_type": "code",
   "execution_count": 41,
   "metadata": {},
   "outputs": [],
   "source": [
    "events.to_parquet(path='alaska_events.parquet',version='2.6')"
   ]
  },
  {
   "cell_type": "code",
   "execution_count": null,
   "metadata": {},
   "outputs": [],
   "source": []
  }
 ],
 "metadata": {
  "kernelspec": {
   "display_name": "Python [conda env:alaska-ml]",
   "language": "python",
   "name": "conda-env-alaska-ml-py"
  },
  "language_info": {
   "codemirror_mode": {
    "name": "ipython",
    "version": 3
   },
   "file_extension": ".py",
   "mimetype": "text/x-python",
   "name": "python",
   "nbconvert_exporter": "python",
   "pygments_lexer": "ipython3",
   "version": "3.9.10"
  }
 },
 "nbformat": 4,
 "nbformat_minor": 4
}
