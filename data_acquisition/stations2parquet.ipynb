{
 "cells": [
  {
   "cell_type": "code",
   "execution_count": 1,
   "id": "b9b6859e-1d74-47f0-8ee8-3f67521ee93d",
   "metadata": {},
   "outputs": [],
   "source": [
    "import obspy\n",
    "import matplotlib.pyplot as plt\n",
    "import numpy as np\n",
    "import glob\n",
    "import pandas as pd\n",
    "import time; import datetime\n",
    "from obspy.core.utcdatetime import UTCDateTime\n",
    "from obspy.clients.fdsn.client import Client\n",
    "from collections import defaultdict\n",
    "import geopandas as gpd\n",
    "from obspy import read_inventory\n",
    "import pyarrow"
   ]
  },
  {
   "cell_type": "code",
   "execution_count": 2,
   "id": "f8b20121-9421-4482-82de-eb990dc5210c",
   "metadata": {},
   "outputs": [],
   "source": [
    "sta_metadata = read_inventory('alaska_stations.xml',format='STATIONXML')"
   ]
  },
  {
   "cell_type": "markdown",
   "id": "511f63a6-468f-4928-9477-70500de1222d",
   "metadata": {},
   "source": [
    "## Convert to a pandas dataframe that's indexed by station information as well as time."
   ]
  },
  {
   "cell_type": "code",
   "execution_count": 37,
   "id": "c28f7a6e-11c8-4692-a1d0-4cfa78eefb2e",
   "metadata": {},
   "outputs": [],
   "source": [
    "station_locs = defaultdict(dict)\n",
    "for network in sta_metadata:\n",
    "    for station in network:\n",
    "        for chn in station:\n",
    "            sid = f\"{network.code}.{station.code}.{chn.location_code}.{chn.code[:-1]}\" + chn.start_date.strftime('%Y%j')\n",
    "            if sid in station_locs:\n",
    "                station_locs[sid][\"component\"] += f\",{chn.code[-1]}\"\n",
    "                station_locs[sid][\"response\"] += f\",{chn.response.instrument_sensitivity.value:.2f}\"\n",
    "            else:\n",
    "                component = f\"{chn.code[-1]}\"\n",
    "                response = f\"{chn.response.instrument_sensitivity.value:.2f}\"\n",
    "                dtype = chn.response.instrument_sensitivity.input_units.lower()\n",
    "                tmp_dict = {}\n",
    "                tmp_dict[\"longitude\"], tmp_dict[\"latitude\"], tmp_dict[\"elevation(m)\"] = (\n",
    "                    chn.longitude,\n",
    "                    chn.latitude,\n",
    "                    chn.elevation,\n",
    "                )\n",
    "                tmp_dict[\"component\"], tmp_dict[\"response\"], tmp_dict[\"unit\"] = component, response, dtype\n",
    "                tmp_dict[\"start_date\"], tmp_dict[\"end_date\"] = chn.start_date,chn.end_date\n",
    "                if tmp_dict[\"end_date\"] is None:\n",
    "                    tmp_dict[\"end_date\"] = UTCDateTime(2100,1,1)\n",
    "                tmp_dict[\"network\"], tmp_dict[\"station\"] = network.code, station.code\n",
    "                station_locs[sid] = tmp_dict\n",
    "\n",
    "station_locs = pd.DataFrame.from_dict(station_locs,orient='index')\n",
    "station_locs[\"id\"] = station_locs.index"
   ]
  },
  {
   "cell_type": "markdown",
   "id": "cc97f73c-66d1-484a-9aa4-da2e3d0c8f32",
   "metadata": {},
   "source": [
    "### Let's do a bit of clean-up... "
   ]
  },
  {
   "cell_type": "code",
   "execution_count": 38,
   "id": "d060d038-61a2-4a5b-ae44-94f0dec7423d",
   "metadata": {},
   "outputs": [],
   "source": [
    "# Drop stations with < 3 components\n",
    "\n",
    "station_locs = station_locs[(station_locs['component'].str.len()>=5)]"
   ]
  },
  {
   "cell_type": "code",
   "execution_count": 39,
   "id": "07bdc936-ad84-4653-9c55-5df95c43010e",
   "metadata": {},
   "outputs": [],
   "source": [
    "# Fix the one station that comes in weird\n",
    "\n",
    "new_comp = station_locs.loc['XO.ET18..HH2018161','component'][4:9]\n",
    "new_resp = ','.join(station_locs.loc['XO.ET18..HH2018161','response'].split(',')[2:5])\n",
    "station_locs.loc['XO.ET18..HH2018161','component'] = new_comp\n",
    "station_locs.loc['XO.ET18..HH2018161','response'] = new_resp"
   ]
  },
  {
   "cell_type": "markdown",
   "id": "1496e800-d295-4912-990d-23e74adfdda7",
   "metadata": {},
   "source": [
    "#### Last thing: remove the date from \"id\""
   ]
  },
  {
   "cell_type": "code",
   "execution_count": 40,
   "id": "82ab393e-bccd-4b2a-9760-b222ec6c49cf",
   "metadata": {},
   "outputs": [],
   "source": [
    "station_locs['id']=station_locs['id'].str.slice(stop=-7)"
   ]
  },
  {
   "cell_type": "markdown",
   "id": "5762edde-cd6e-472f-9c44-293adf3c3e86",
   "metadata": {},
   "source": [
    "#### And convert the time columns to strings"
   ]
  },
  {
   "cell_type": "code",
   "execution_count": 41,
   "id": "69b93b05-277f-40bb-9a6a-2f05ec03c731",
   "metadata": {},
   "outputs": [],
   "source": [
    "station_locs['start_date']= [p.strftime(\"%Y-%m-%dT%H:%M:%S.%f\")[:-3] for p in station_locs['start_date']]\n",
    "station_locs['end_date']= [p.strftime(\"%Y-%m-%dT%H:%M:%S.%f\")[:-3] for p in station_locs['end_date']]"
   ]
  },
  {
   "cell_type": "markdown",
   "id": "1af8e32c-73c9-4343-a8b5-5c0fabc4b929",
   "metadata": {},
   "source": [
    "### All done! Now let's save it as a parquet."
   ]
  },
  {
   "cell_type": "code",
   "execution_count": 42,
   "id": "39bae0a7-abb9-4731-8659-eec2977ab1d5",
   "metadata": {},
   "outputs": [],
   "source": [
    "station_locs.to_parquet('alaska_stations.parquet',version='2.6')"
   ]
  },
  {
   "cell_type": "code",
   "execution_count": null,
   "id": "03ee04f6-465d-473b-a8e4-bf15578a8590",
   "metadata": {},
   "outputs": [],
   "source": []
  }
 ],
 "metadata": {
  "kernelspec": {
   "display_name": "Python 3 (ipykernel)",
   "language": "python",
   "name": "python3"
  },
  "language_info": {
   "codemirror_mode": {
    "name": "ipython",
    "version": 3
   },
   "file_extension": ".py",
   "mimetype": "text/x-python",
   "name": "python",
   "nbconvert_exporter": "python",
   "pygments_lexer": "ipython3",
   "version": "3.9.9"
  }
 },
 "nbformat": 4,
 "nbformat_minor": 5
}
